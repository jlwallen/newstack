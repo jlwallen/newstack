{
 "cells": [
  {
   "cell_type": "code",
   "execution_count": 1,
   "id": "0ab72f12",
   "metadata": {},
   "outputs": [
    {
     "name": "stdout",
     "output_type": "stream",
     "text": [
      "Another Test\n"
     ]
    }
   ],
   "source": [
    "print(\"Another Test\")"
   ]
  },
  {
   "cell_type": "code",
   "execution_count": null,
   "id": "c26fd6c9",
   "metadata": {},
   "outputs": [],
   "source": []
  }
 ],
 "metadata": {
  "kernelspec": {
   "display_name": "Python 3",
   "language": "python",
   "name": "python3"
  },
  "language_info": {
   "codemirror_mode": {
    "name": "ipython",
    "version": 3
   },
   "file_extension": ".py",
   "mimetype": "text/x-python",
   "name": "python",
   "nbconvert_exporter": "python",
   "pygments_lexer": "ipython3",
   "version": "3.9.4"
  }
 },
 "nbformat": 4,
 "nbformat_minor": 5
}
